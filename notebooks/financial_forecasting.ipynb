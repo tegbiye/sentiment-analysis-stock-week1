{
 "cells": [
  {
   "cell_type": "code",
   "execution_count": 21,
   "id": "5d913610",
   "metadata": {},
   "outputs": [],
   "source": [
    "import os\n",
    "import sys\n",
    "import pandas as pd\n",
    "\n"
   ]
  },
  {
   "cell_type": "code",
   "execution_count": 6,
   "id": "52e41178",
   "metadata": {},
   "outputs": [],
   "source": [
    "from dotenv import load_dotenv\n",
    "sys.path.append('../scripts/')\n",
    "from load_data import load_csv"
   ]
  },
  {
   "cell_type": "code",
   "execution_count": 7,
   "id": "efc686b7",
   "metadata": {},
   "outputs": [],
   "source": [
    "load_dotenv()\n",
    "apple_data = os.getenv('APPLE_STOCK')\n",
    "apple_df = load_csv(apple_data)\n"
   ]
  },
  {
   "cell_type": "code",
   "execution_count": 8,
   "id": "b040f191",
   "metadata": {},
   "outputs": [
    {
     "name": "stdout",
     "output_type": "stream",
     "text": [
      "<class 'pandas.core.frame.DataFrame'>\n",
      "RangeIndex: 10998 entries, 0 to 10997\n",
      "Data columns (total 9 columns):\n",
      " #   Column        Non-Null Count  Dtype  \n",
      "---  ------        --------------  -----  \n",
      " 0   Date          10998 non-null  object \n",
      " 1   Open          10998 non-null  float64\n",
      " 2   High          10998 non-null  float64\n",
      " 3   Low           10998 non-null  float64\n",
      " 4   Close         10998 non-null  float64\n",
      " 5   Adj Close     10998 non-null  float64\n",
      " 6   Volume        10998 non-null  int64  \n",
      " 7   Dividends     10998 non-null  float64\n",
      " 8   Stock Splits  10998 non-null  float64\n",
      "dtypes: float64(7), int64(1), object(1)\n",
      "memory usage: 773.4+ KB\n",
      "None\n"
     ]
    }
   ],
   "source": [
    "##Apple Data INFO\n",
    "print(apple_df.info())"
   ]
  },
  {
   "cell_type": "code",
   "execution_count": 9,
   "id": "99f0e8e1",
   "metadata": {},
   "outputs": [
    {
     "name": "stdout",
     "output_type": "stream",
     "text": [
      "Date            0\n",
      "Open            0\n",
      "High            0\n",
      "Low             0\n",
      "Close           0\n",
      "Adj Close       0\n",
      "Volume          0\n",
      "Dividends       0\n",
      "Stock Splits    0\n",
      "dtype: int64\n"
     ]
    }
   ],
   "source": [
    "## Check for missing value\n",
    "print(apple_df.isnull().sum())"
   ]
  },
  {
   "cell_type": "code",
   "execution_count": 12,
   "id": "33937c19",
   "metadata": {},
   "outputs": [
    {
     "name": "stdout",
     "output_type": "stream",
     "text": [
      "         Date      Open      High  ...     Volume  Dividends  Stock Splits\n",
      "0  1980-12-12  0.128348  0.128906  ...  469033600        0.0           0.0\n",
      "1  1980-12-15  0.122210  0.122210  ...  175884800        0.0           0.0\n",
      "2  1980-12-16  0.113281  0.113281  ...  105728000        0.0           0.0\n",
      "3  1980-12-17  0.115513  0.116071  ...   86441600        0.0           0.0\n",
      "4  1980-12-18  0.118862  0.119420  ...   73449600        0.0           0.0\n",
      "\n",
      "[5 rows x 9 columns]\n",
      "             Date        Open        High  ...    Volume  Dividends  Stock Splits\n",
      "10993  2024-07-24  224.000000  224.800003  ...  61777600        0.0           0.0\n",
      "10994  2024-07-25  218.929993  220.850006  ...  51391200        0.0           0.0\n",
      "10995  2024-07-26  218.699997  219.490005  ...  41601300        0.0           0.0\n",
      "10996  2024-07-29  216.960007  219.300003  ...  36311800        0.0           0.0\n",
      "10997  2024-07-30  219.190002  220.330002  ...  41643800        0.0           0.0\n",
      "\n",
      "[5 rows x 9 columns]\n"
     ]
    }
   ],
   "source": [
    "##Apple Data HEAD\n",
    "print(apple_df.head())\n",
    "\n",
    "##Apple Data TAIL\n",
    "print(apple_df.tail())"
   ]
  },
  {
   "cell_type": "code",
   "execution_count": 15,
   "id": "8a1144f5",
   "metadata": {},
   "outputs": [
    {
     "name": "stdout",
     "output_type": "stream",
     "text": [
      "               Open          High  ...     Dividends  Stock Splits\n",
      "count  10998.000000  10998.000000  ...  10998.000000  10998.000000\n",
      "mean      22.299160     22.539055  ...      0.000752      0.001546\n",
      "std       46.003685     46.496031  ...      0.011753      0.083663\n",
      "min        0.049665      0.049665  ...      0.000000      0.000000\n",
      "25%        0.299107      0.303710  ...      0.000000      0.000000\n",
      "50%        0.531250      0.537946  ...      0.000000      0.000000\n",
      "75%       20.204196     20.389554  ...      0.000000      0.000000\n",
      "max      236.479996    237.229996  ...      0.250000      7.000000\n",
      "\n",
      "[8 rows x 8 columns]\n"
     ]
    }
   ],
   "source": [
    "##Analyzer of Data\n",
    "from stock_analyzer import StockAnalyzer\n",
    "\n",
    "\n",
    "print(apple_df.describe())\n",
    "\n",
    "analyzer = StockAnalyzer('AAPL')"
   ]
  },
  {
   "cell_type": "code",
   "execution_count": 19,
   "id": "e485482a",
   "metadata": {},
   "outputs": [
    {
     "data": {
      "application/vnd.plotly.v1+json": {
       "config": {
        "plotlyServerURL": "https://plot.ly"
       },
       "data": [
        {
         "close": {
          "bdata": "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",
          "dtype": "f8"
         },
         "high": {
          "bdata": "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",
          "dtype": "f8"
         },
         "low": {
          "bdata": "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",
          "dtype": "f8"
         },
         "name": "OHLC",
         "open": {
          "bdata": "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",
          "dtype": "f8"
         },
         "type": "candlestick",
         "x": [
          "2024-05-29T00:00:00-04:00",
          "2024-05-30T00:00:00-04:00",
          "2024-05-31T00:00:00-04:00",
          "2024-06-03T00:00:00-04:00",
          "2024-06-04T00:00:00-04:00",
          "2024-06-05T00:00:00-04:00",
          "2024-06-06T00:00:00-04:00",
          "2024-06-07T00:00:00-04:00",
          "2024-06-10T00:00:00-04:00",
          "2024-06-11T00:00:00-04:00",
          "2024-06-12T00:00:00-04:00",
          "2024-06-13T00:00:00-04:00",
          "2024-06-14T00:00:00-04:00",
          "2024-06-17T00:00:00-04:00",
          "2024-06-18T00:00:00-04:00",
          "2024-06-20T00:00:00-04:00",
          "2024-06-21T00:00:00-04:00",
          "2024-06-24T00:00:00-04:00",
          "2024-06-25T00:00:00-04:00",
          "2024-06-26T00:00:00-04:00",
          "2024-06-27T00:00:00-04:00",
          "2024-06-28T00:00:00-04:00",
          "2024-07-01T00:00:00-04:00",
          "2024-07-02T00:00:00-04:00",
          "2024-07-03T00:00:00-04:00",
          "2024-07-05T00:00:00-04:00",
          "2024-07-08T00:00:00-04:00",
          "2024-07-09T00:00:00-04:00",
          "2024-07-10T00:00:00-04:00",
          "2024-07-11T00:00:00-04:00",
          "2024-07-12T00:00:00-04:00",
          "2024-07-15T00:00:00-04:00",
          "2024-07-16T00:00:00-04:00",
          "2024-07-17T00:00:00-04:00",
          "2024-07-18T00:00:00-04:00",
          "2024-07-19T00:00:00-04:00",
          "2024-07-22T00:00:00-04:00",
          "2024-07-23T00:00:00-04:00",
          "2024-07-24T00:00:00-04:00",
          "2024-07-25T00:00:00-04:00",
          "2024-07-26T00:00:00-04:00",
          "2024-07-29T00:00:00-04:00",
          "2024-07-30T00:00:00-04:00",
          "2024-07-31T00:00:00-04:00",
          "2024-08-01T00:00:00-04:00",
          "2024-08-02T00:00:00-04:00",
          "2024-08-05T00:00:00-04:00",
          "2024-08-06T00:00:00-04:00",
          "2024-08-07T00:00:00-04:00",
          "2024-08-08T00:00:00-04:00",
          "2024-08-09T00:00:00-04:00",
          "2024-08-12T00:00:00-04:00",
          "2024-08-13T00:00:00-04:00",
          "2024-08-14T00:00:00-04:00",
          "2024-08-15T00:00:00-04:00",
          "2024-08-16T00:00:00-04:00",
          "2024-08-19T00:00:00-04:00",
          "2024-08-20T00:00:00-04:00",
          "2024-08-21T00:00:00-04:00",
          "2024-08-22T00:00:00-04:00",
          "2024-08-23T00:00:00-04:00",
          "2024-08-26T00:00:00-04:00",
          "2024-08-27T00:00:00-04:00",
          "2024-08-28T00:00:00-04:00",
          "2024-08-29T00:00:00-04:00",
          "2024-08-30T00:00:00-04:00",
          "2024-09-03T00:00:00-04:00",
          "2024-09-04T00:00:00-04:00",
          "2024-09-05T00:00:00-04:00",
          "2024-09-06T00:00:00-04:00",
          "2024-09-09T00:00:00-04:00",
          "2024-09-10T00:00:00-04:00",
          "2024-09-11T00:00:00-04:00",
          "2024-09-12T00:00:00-04:00",
          "2024-09-13T00:00:00-04:00",
          "2024-09-16T00:00:00-04:00",
          "2024-09-17T00:00:00-04:00",
          "2024-09-18T00:00:00-04:00",
          "2024-09-19T00:00:00-04:00",
          "2024-09-20T00:00:00-04:00",
          "2024-09-23T00:00:00-04:00",
          "2024-09-24T00:00:00-04:00",
          "2024-09-25T00:00:00-04:00",
          "2024-09-26T00:00:00-04:00",
          "2024-09-27T00:00:00-04:00",
          "2024-09-30T00:00:00-04:00",
          "2024-10-01T00:00:00-04:00",
          "2024-10-02T00:00:00-04:00",
          "2024-10-03T00:00:00-04:00",
          "2024-10-04T00:00:00-04:00",
          "2024-10-07T00:00:00-04:00",
          "2024-10-08T00:00:00-04:00",
          "2024-10-09T00:00:00-04:00",
          "2024-10-10T00:00:00-04:00",
          "2024-10-11T00:00:00-04:00",
          "2024-10-14T00:00:00-04:00",
          "2024-10-15T00:00:00-04:00",
          "2024-10-16T00:00:00-04:00",
          "2024-10-17T00:00:00-04:00",
          "2024-10-18T00:00:00-04:00",
          "2024-10-21T00:00:00-04:00",
          "2024-10-22T00:00:00-04:00",
          "2024-10-23T00:00:00-04:00",
          "2024-10-24T00:00:00-04:00",
          "2024-10-25T00:00:00-04:00",
          "2024-10-28T00:00:00-04:00",
          "2024-10-29T00:00:00-04:00",
          "2024-10-30T00:00:00-04:00",
          "2024-10-31T00:00:00-04:00",
          "2024-11-01T00:00:00-04:00",
          "2024-11-04T00:00:00-05:00",
          "2024-11-05T00:00:00-05:00",
          "2024-11-06T00:00:00-05:00",
          "2024-11-07T00:00:00-05:00",
          "2024-11-08T00:00:00-05:00",
          "2024-11-11T00:00:00-05:00",
          "2024-11-12T00:00:00-05:00",
          "2024-11-13T00:00:00-05:00",
          "2024-11-14T00:00:00-05:00",
          "2024-11-15T00:00:00-05:00",
          "2024-11-18T00:00:00-05:00",
          "2024-11-19T00:00:00-05:00",
          "2024-11-20T00:00:00-05:00",
          "2024-11-21T00:00:00-05:00",
          "2024-11-22T00:00:00-05:00",
          "2024-11-25T00:00:00-05:00",
          "2024-11-26T00:00:00-05:00",
          "2024-11-27T00:00:00-05:00",
          "2024-11-29T00:00:00-05:00",
          "2024-12-02T00:00:00-05:00",
          "2024-12-03T00:00:00-05:00",
          "2024-12-04T00:00:00-05:00",
          "2024-12-05T00:00:00-05:00",
          "2024-12-06T00:00:00-05:00",
          "2024-12-09T00:00:00-05:00",
          "2024-12-10T00:00:00-05:00",
          "2024-12-11T00:00:00-05:00",
          "2024-12-12T00:00:00-05:00",
          "2024-12-13T00:00:00-05:00",
          "2024-12-16T00:00:00-05:00",
          "2024-12-17T00:00:00-05:00",
          "2024-12-18T00:00:00-05:00",
          "2024-12-19T00:00:00-05:00",
          "2024-12-20T00:00:00-05:00",
          "2024-12-23T00:00:00-05:00",
          "2024-12-24T00:00:00-05:00",
          "2024-12-26T00:00:00-05:00",
          "2024-12-27T00:00:00-05:00",
          "2024-12-30T00:00:00-05:00",
          "2024-12-31T00:00:00-05:00",
          "2025-01-02T00:00:00-05:00",
          "2025-01-03T00:00:00-05:00",
          "2025-01-06T00:00:00-05:00",
          "2025-01-07T00:00:00-05:00",
          "2025-01-08T00:00:00-05:00",
          "2025-01-10T00:00:00-05:00",
          "2025-01-13T00:00:00-05:00",
          "2025-01-14T00:00:00-05:00",
          "2025-01-15T00:00:00-05:00",
          "2025-01-16T00:00:00-05:00",
          "2025-01-17T00:00:00-05:00",
          "2025-01-21T00:00:00-05:00",
          "2025-01-22T00:00:00-05:00",
          "2025-01-23T00:00:00-05:00",
          "2025-01-24T00:00:00-05:00",
          "2025-01-27T00:00:00-05:00",
          "2025-01-28T00:00:00-05:00",
          "2025-01-29T00:00:00-05:00",
          "2025-01-30T00:00:00-05:00",
          "2025-01-31T00:00:00-05:00",
          "2025-02-03T00:00:00-05:00",
          "2025-02-04T00:00:00-05:00",
          "2025-02-05T00:00:00-05:00",
          "2025-02-06T00:00:00-05:00",
          "2025-02-07T00:00:00-05:00",
          "2025-02-10T00:00:00-05:00",
          "2025-02-11T00:00:00-05:00",
          "2025-02-12T00:00:00-05:00",
          "2025-02-13T00:00:00-05:00",
          "2025-02-14T00:00:00-05:00",
          "2025-02-18T00:00:00-05:00",
          "2025-02-19T00:00:00-05:00",
          "2025-02-20T00:00:00-05:00",
          "2025-02-21T00:00:00-05:00",
          "2025-02-24T00:00:00-05:00",
          "2025-02-25T00:00:00-05:00",
          "2025-02-26T00:00:00-05:00",
          "2025-02-27T00:00:00-05:00",
          "2025-02-28T00:00:00-05:00",
          "2025-03-03T00:00:00-05:00",
          "2025-03-04T00:00:00-05:00",
          "2025-03-05T00:00:00-05:00",
          "2025-03-06T00:00:00-05:00",
          "2025-03-07T00:00:00-05:00",
          "2025-03-10T00:00:00-04:00",
          "2025-03-11T00:00:00-04:00",
          "2025-03-12T00:00:00-04:00",
          "2025-03-13T00:00:00-04:00",
          "2025-03-14T00:00:00-04:00",
          "2025-03-17T00:00:00-04:00",
          "2025-03-18T00:00:00-04:00",
          "2025-03-19T00:00:00-04:00",
          "2025-03-20T00:00:00-04:00",
          "2025-03-21T00:00:00-04:00",
          "2025-03-24T00:00:00-04:00",
          "2025-03-25T00:00:00-04:00",
          "2025-03-26T00:00:00-04:00",
          "2025-03-27T00:00:00-04:00",
          "2025-03-28T00:00:00-04:00",
          "2025-03-31T00:00:00-04:00",
          "2025-04-01T00:00:00-04:00",
          "2025-04-02T00:00:00-04:00",
          "2025-04-03T00:00:00-04:00",
          "2025-04-04T00:00:00-04:00",
          "2025-04-07T00:00:00-04:00",
          "2025-04-08T00:00:00-04:00",
          "2025-04-09T00:00:00-04:00",
          "2025-04-10T00:00:00-04:00",
          "2025-04-11T00:00:00-04:00",
          "2025-04-14T00:00:00-04:00",
          "2025-04-15T00:00:00-04:00",
          "2025-04-16T00:00:00-04:00",
          "2025-04-17T00:00:00-04:00",
          "2025-04-21T00:00:00-04:00",
          "2025-04-22T00:00:00-04:00",
          "2025-04-23T00:00:00-04:00",
          "2025-04-24T00:00:00-04:00",
          "2025-04-25T00:00:00-04:00",
          "2025-04-28T00:00:00-04:00",
          "2025-04-29T00:00:00-04:00",
          "2025-04-30T00:00:00-04:00",
          "2025-05-01T00:00:00-04:00",
          "2025-05-02T00:00:00-04:00",
          "2025-05-05T00:00:00-04:00",
          "2025-05-06T00:00:00-04:00",
          "2025-05-07T00:00:00-04:00",
          "2025-05-08T00:00:00-04:00",
          "2025-05-09T00:00:00-04:00",
          "2025-05-12T00:00:00-04:00",
          "2025-05-13T00:00:00-04:00",
          "2025-05-14T00:00:00-04:00",
          "2025-05-15T00:00:00-04:00",
          "2025-05-16T00:00:00-04:00",
          "2025-05-19T00:00:00-04:00",
          "2025-05-20T00:00:00-04:00",
          "2025-05-21T00:00:00-04:00",
          "2025-05-22T00:00:00-04:00",
          "2025-05-23T00:00:00-04:00",
          "2025-05-27T00:00:00-04:00",
          "2025-05-28T00:00:00-04:00",
          "2025-05-29T00:00:00-04:00"
         ],
         "xaxis": "x",
         "yaxis": "y"
        },
        {
         "line": {
          "color": "blue"
         },
         "name": "SMA 20",
         "type": "scatter",
         "x": [
          "2024-05-29T00:00:00-04:00",
          "2024-05-30T00:00:00-04:00",
          "2024-05-31T00:00:00-04:00",
          "2024-06-03T00:00:00-04:00",
          "2024-06-04T00:00:00-04:00",
          "2024-06-05T00:00:00-04:00",
          "2024-06-06T00:00:00-04:00",
          "2024-06-07T00:00:00-04:00",
          "2024-06-10T00:00:00-04:00",
          "2024-06-11T00:00:00-04:00",
          "2024-06-12T00:00:00-04:00",
          "2024-06-13T00:00:00-04:00",
          "2024-06-14T00:00:00-04:00",
          "2024-06-17T00:00:00-04:00",
          "2024-06-18T00:00:00-04:00",
          "2024-06-20T00:00:00-04:00",
          "2024-06-21T00:00:00-04:00",
          "2024-06-24T00:00:00-04:00",
          "2024-06-25T00:00:00-04:00",
          "2024-06-26T00:00:00-04:00",
          "2024-06-27T00:00:00-04:00",
          "2024-06-28T00:00:00-04:00",
          "2024-07-01T00:00:00-04:00",
          "2024-07-02T00:00:00-04:00",
          "2024-07-03T00:00:00-04:00",
          "2024-07-05T00:00:00-04:00",
          "2024-07-08T00:00:00-04:00",
          "2024-07-09T00:00:00-04:00",
          "2024-07-10T00:00:00-04:00",
          "2024-07-11T00:00:00-04:00",
          "2024-07-12T00:00:00-04:00",
          "2024-07-15T00:00:00-04:00",
          "2024-07-16T00:00:00-04:00",
          "2024-07-17T00:00:00-04:00",
          "2024-07-18T00:00:00-04:00",
          "2024-07-19T00:00:00-04:00",
          "2024-07-22T00:00:00-04:00",
          "2024-07-23T00:00:00-04:00",
          "2024-07-24T00:00:00-04:00",
          "2024-07-25T00:00:00-04:00",
          "2024-07-26T00:00:00-04:00",
          "2024-07-29T00:00:00-04:00",
          "2024-07-30T00:00:00-04:00",
          "2024-07-31T00:00:00-04:00",
          "2024-08-01T00:00:00-04:00",
          "2024-08-02T00:00:00-04:00",
          "2024-08-05T00:00:00-04:00",
          "2024-08-06T00:00:00-04:00",
          "2024-08-07T00:00:00-04:00",
          "2024-08-08T00:00:00-04:00",
          "2024-08-09T00:00:00-04:00",
          "2024-08-12T00:00:00-04:00",
          "2024-08-13T00:00:00-04:00",
          "2024-08-14T00:00:00-04:00",
          "2024-08-15T00:00:00-04:00",
          "2024-08-16T00:00:00-04:00",
          "2024-08-19T00:00:00-04:00",
          "2024-08-20T00:00:00-04:00",
          "2024-08-21T00:00:00-04:00",
          "2024-08-22T00:00:00-04:00",
          "2024-08-23T00:00:00-04:00",
          "2024-08-26T00:00:00-04:00",
          "2024-08-27T00:00:00-04:00",
          "2024-08-28T00:00:00-04:00",
          "2024-08-29T00:00:00-04:00",
          "2024-08-30T00:00:00-04:00",
          "2024-09-03T00:00:00-04:00",
          "2024-09-04T00:00:00-04:00",
          "2024-09-05T00:00:00-04:00",
          "2024-09-06T00:00:00-04:00",
          "2024-09-09T00:00:00-04:00",
          "2024-09-10T00:00:00-04:00",
          "2024-09-11T00:00:00-04:00",
          "2024-09-12T00:00:00-04:00",
          "2024-09-13T00:00:00-04:00",
          "2024-09-16T00:00:00-04:00",
          "2024-09-17T00:00:00-04:00",
          "2024-09-18T00:00:00-04:00",
          "2024-09-19T00:00:00-04:00",
          "2024-09-20T00:00:00-04:00",
          "2024-09-23T00:00:00-04:00",
          "2024-09-24T00:00:00-04:00",
          "2024-09-25T00:00:00-04:00",
          "2024-09-26T00:00:00-04:00",
          "2024-09-27T00:00:00-04:00",
          "2024-09-30T00:00:00-04:00",
          "2024-10-01T00:00:00-04:00",
          "2024-10-02T00:00:00-04:00",
          "2024-10-03T00:00:00-04:00",
          "2024-10-04T00:00:00-04:00",
          "2024-10-07T00:00:00-04:00",
          "2024-10-08T00:00:00-04:00",
          "2024-10-09T00:00:00-04:00",
          "2024-10-10T00:00:00-04:00",
          "2024-10-11T00:00:00-04:00",
          "2024-10-14T00:00:00-04:00",
          "2024-10-15T00:00:00-04:00",
          "2024-10-16T00:00:00-04:00",
          "2024-10-17T00:00:00-04:00",
          "2024-10-18T00:00:00-04:00",
          "2024-10-21T00:00:00-04:00",
          "2024-10-22T00:00:00-04:00",
          "2024-10-23T00:00:00-04:00",
          "2024-10-24T00:00:00-04:00",
          "2024-10-25T00:00:00-04:00",
          "2024-10-28T00:00:00-04:00",
          "2024-10-29T00:00:00-04:00",
          "2024-10-30T00:00:00-04:00",
          "2024-10-31T00:00:00-04:00",
          "2024-11-01T00:00:00-04:00",
          "2024-11-04T00:00:00-05:00",
          "2024-11-05T00:00:00-05:00",
          "2024-11-06T00:00:00-05:00",
          "2024-11-07T00:00:00-05:00",
          "2024-11-08T00:00:00-05:00",
          "2024-11-11T00:00:00-05:00",
          "2024-11-12T00:00:00-05:00",
          "2024-11-13T00:00:00-05:00",
          "2024-11-14T00:00:00-05:00",
          "2024-11-15T00:00:00-05:00",
          "2024-11-18T00:00:00-05:00",
          "2024-11-19T00:00:00-05:00",
          "2024-11-20T00:00:00-05:00",
          "2024-11-21T00:00:00-05:00",
          "2024-11-22T00:00:00-05:00",
          "2024-11-25T00:00:00-05:00",
          "2024-11-26T00:00:00-05:00",
          "2024-11-27T00:00:00-05:00",
          "2024-11-29T00:00:00-05:00",
          "2024-12-02T00:00:00-05:00",
          "2024-12-03T00:00:00-05:00",
          "2024-12-04T00:00:00-05:00",
          "2024-12-05T00:00:00-05:00",
          "2024-12-06T00:00:00-05:00",
          "2024-12-09T00:00:00-05:00",
          "2024-12-10T00:00:00-05:00",
          "2024-12-11T00:00:00-05:00",
          "2024-12-12T00:00:00-05:00",
          "2024-12-13T00:00:00-05:00",
          "2024-12-16T00:00:00-05:00",
          "2024-12-17T00:00:00-05:00",
          "2024-12-18T00:00:00-05:00",
          "2024-12-19T00:00:00-05:00",
          "2024-12-20T00:00:00-05:00",
          "2024-12-23T00:00:00-05:00",
          "2024-12-24T00:00:00-05:00",
          "2024-12-26T00:00:00-05:00",
          "2024-12-27T00:00:00-05:00",
          "2024-12-30T00:00:00-05:00",
          "2024-12-31T00:00:00-05:00",
          "2025-01-02T00:00:00-05:00",
          "2025-01-03T00:00:00-05:00",
          "2025-01-06T00:00:00-05:00",
          "2025-01-07T00:00:00-05:00",
          "2025-01-08T00:00:00-05:00",
          "2025-01-10T00:00:00-05:00",
          "2025-01-13T00:00:00-05:00",
          "2025-01-14T00:00:00-05:00",
          "2025-01-15T00:00:00-05:00",
          "2025-01-16T00:00:00-05:00",
          "2025-01-17T00:00:00-05:00",
          "2025-01-21T00:00:00-05:00",
          "2025-01-22T00:00:00-05:00",
          "2025-01-23T00:00:00-05:00",
          "2025-01-24T00:00:00-05:00",
          "2025-01-27T00:00:00-05:00",
          "2025-01-28T00:00:00-05:00",
          "2025-01-29T00:00:00-05:00",
          "2025-01-30T00:00:00-05:00",
          "2025-01-31T00:00:00-05:00",
          "2025-02-03T00:00:00-05:00",
          "2025-02-04T00:00:00-05:00",
          "2025-02-05T00:00:00-05:00",
          "2025-02-06T00:00:00-05:00",
          "2025-02-07T00:00:00-05:00",
          "2025-02-10T00:00:00-05:00",
          "2025-02-11T00:00:00-05:00",
          "2025-02-12T00:00:00-05:00",
          "2025-02-13T00:00:00-05:00",
          "2025-02-14T00:00:00-05:00",
          "2025-02-18T00:00:00-05:00",
          "2025-02-19T00:00:00-05:00",
          "2025-02-20T00:00:00-05:00",
          "2025-02-21T00:00:00-05:00",
          "2025-02-24T00:00:00-05:00",
          "2025-02-25T00:00:00-05:00",
          "2025-02-26T00:00:00-05:00",
          "2025-02-27T00:00:00-05:00",
          "2025-02-28T00:00:00-05:00",
          "2025-03-03T00:00:00-05:00",
          "2025-03-04T00:00:00-05:00",
          "2025-03-05T00:00:00-05:00",
          "2025-03-06T00:00:00-05:00",
          "2025-03-07T00:00:00-05:00",
          "2025-03-10T00:00:00-04:00",
          "2025-03-11T00:00:00-04:00",
          "2025-03-12T00:00:00-04:00",
          "2025-03-13T00:00:00-04:00",
          "2025-03-14T00:00:00-04:00",
          "2025-03-17T00:00:00-04:00",
          "2025-03-18T00:00:00-04:00",
          "2025-03-19T00:00:00-04:00",
          "2025-03-20T00:00:00-04:00",
          "2025-03-21T00:00:00-04:00",
          "2025-03-24T00:00:00-04:00",
          "2025-03-25T00:00:00-04:00",
          "2025-03-26T00:00:00-04:00",
          "2025-03-27T00:00:00-04:00",
          "2025-03-28T00:00:00-04:00",
          "2025-03-31T00:00:00-04:00",
          "2025-04-01T00:00:00-04:00",
          "2025-04-02T00:00:00-04:00",
          "2025-04-03T00:00:00-04:00",
          "2025-04-04T00:00:00-04:00",
          "2025-04-07T00:00:00-04:00",
          "2025-04-08T00:00:00-04:00",
          "2025-04-09T00:00:00-04:00",
          "2025-04-10T00:00:00-04:00",
          "2025-04-11T00:00:00-04:00",
          "2025-04-14T00:00:00-04:00",
          "2025-04-15T00:00:00-04:00",
          "2025-04-16T00:00:00-04:00",
          "2025-04-17T00:00:00-04:00",
          "2025-04-21T00:00:00-04:00",
          "2025-04-22T00:00:00-04:00",
          "2025-04-23T00:00:00-04:00",
          "2025-04-24T00:00:00-04:00",
          "2025-04-25T00:00:00-04:00",
          "2025-04-28T00:00:00-04:00",
          "2025-04-29T00:00:00-04:00",
          "2025-04-30T00:00:00-04:00",
          "2025-05-01T00:00:00-04:00",
          "2025-05-02T00:00:00-04:00",
          "2025-05-05T00:00:00-04:00",
          "2025-05-06T00:00:00-04:00",
          "2025-05-07T00:00:00-04:00",
          "2025-05-08T00:00:00-04:00",
          "2025-05-09T00:00:00-04:00",
          "2025-05-12T00:00:00-04:00",
          "2025-05-13T00:00:00-04:00",
          "2025-05-14T00:00:00-04:00",
          "2025-05-15T00:00:00-04:00",
          "2025-05-16T00:00:00-04:00",
          "2025-05-19T00:00:00-04:00",
          "2025-05-20T00:00:00-04:00",
          "2025-05-21T00:00:00-04:00",
          "2025-05-22T00:00:00-04:00",
          "2025-05-23T00:00:00-04:00",
          "2025-05-27T00:00:00-04:00",
          "2025-05-28T00:00:00-04:00",
          "2025-05-29T00:00:00-04:00"
         ],
         "xaxis": "x",
         "y": {
          "bdata": "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",
          "dtype": "f8"
         },
         "yaxis": "y"
        },
        {
         "line": {
          "color": "red"
         },
         "name": "SMA 50",
         "type": "scatter",
         "x": [
          "2024-05-29T00:00:00-04:00",
          "2024-05-30T00:00:00-04:00",
          "2024-05-31T00:00:00-04:00",
          "2024-06-03T00:00:00-04:00",
          "2024-06-04T00:00:00-04:00",
          "2024-06-05T00:00:00-04:00",
          "2024-06-06T00:00:00-04:00",
          "2024-06-07T00:00:00-04:00",
          "2024-06-10T00:00:00-04:00",
          "2024-06-11T00:00:00-04:00",
          "2024-06-12T00:00:00-04:00",
          "2024-06-13T00:00:00-04:00",
          "2024-06-14T00:00:00-04:00",
          "2024-06-17T00:00:00-04:00",
          "2024-06-18T00:00:00-04:00",
          "2024-06-20T00:00:00-04:00",
          "2024-06-21T00:00:00-04:00",
          "2024-06-24T00:00:00-04:00",
          "2024-06-25T00:00:00-04:00",
          "2024-06-26T00:00:00-04:00",
          "2024-06-27T00:00:00-04:00",
          "2024-06-28T00:00:00-04:00",
          "2024-07-01T00:00:00-04:00",
          "2024-07-02T00:00:00-04:00",
          "2024-07-03T00:00:00-04:00",
          "2024-07-05T00:00:00-04:00",
          "2024-07-08T00:00:00-04:00",
          "2024-07-09T00:00:00-04:00",
          "2024-07-10T00:00:00-04:00",
          "2024-07-11T00:00:00-04:00",
          "2024-07-12T00:00:00-04:00",
          "2024-07-15T00:00:00-04:00",
          "2024-07-16T00:00:00-04:00",
          "2024-07-17T00:00:00-04:00",
          "2024-07-18T00:00:00-04:00",
          "2024-07-19T00:00:00-04:00",
          "2024-07-22T00:00:00-04:00",
          "2024-07-23T00:00:00-04:00",
          "2024-07-24T00:00:00-04:00",
          "2024-07-25T00:00:00-04:00",
          "2024-07-26T00:00:00-04:00",
          "2024-07-29T00:00:00-04:00",
          "2024-07-30T00:00:00-04:00",
          "2024-07-31T00:00:00-04:00",
          "2024-08-01T00:00:00-04:00",
          "2024-08-02T00:00:00-04:00",
          "2024-08-05T00:00:00-04:00",
          "2024-08-06T00:00:00-04:00",
          "2024-08-07T00:00:00-04:00",
          "2024-08-08T00:00:00-04:00",
          "2024-08-09T00:00:00-04:00",
          "2024-08-12T00:00:00-04:00",
          "2024-08-13T00:00:00-04:00",
          "2024-08-14T00:00:00-04:00",
          "2024-08-15T00:00:00-04:00",
          "2024-08-16T00:00:00-04:00",
          "2024-08-19T00:00:00-04:00",
          "2024-08-20T00:00:00-04:00",
          "2024-08-21T00:00:00-04:00",
          "2024-08-22T00:00:00-04:00",
          "2024-08-23T00:00:00-04:00",
          "2024-08-26T00:00:00-04:00",
          "2024-08-27T00:00:00-04:00",
          "2024-08-28T00:00:00-04:00",
          "2024-08-29T00:00:00-04:00",
          "2024-08-30T00:00:00-04:00",
          "2024-09-03T00:00:00-04:00",
          "2024-09-04T00:00:00-04:00",
          "2024-09-05T00:00:00-04:00",
          "2024-09-06T00:00:00-04:00",
          "2024-09-09T00:00:00-04:00",
          "2024-09-10T00:00:00-04:00",
          "2024-09-11T00:00:00-04:00",
          "2024-09-12T00:00:00-04:00",
          "2024-09-13T00:00:00-04:00",
          "2024-09-16T00:00:00-04:00",
          "2024-09-17T00:00:00-04:00",
          "2024-09-18T00:00:00-04:00",
          "2024-09-19T00:00:00-04:00",
          "2024-09-20T00:00:00-04:00",
          "2024-09-23T00:00:00-04:00",
          "2024-09-24T00:00:00-04:00",
          "2024-09-25T00:00:00-04:00",
          "2024-09-26T00:00:00-04:00",
          "2024-09-27T00:00:00-04:00",
          "2024-09-30T00:00:00-04:00",
          "2024-10-01T00:00:00-04:00",
          "2024-10-02T00:00:00-04:00",
          "2024-10-03T00:00:00-04:00",
          "2024-10-04T00:00:00-04:00",
          "2024-10-07T00:00:00-04:00",
          "2024-10-08T00:00:00-04:00",
          "2024-10-09T00:00:00-04:00",
          "2024-10-10T00:00:00-04:00",
          "2024-10-11T00:00:00-04:00",
          "2024-10-14T00:00:00-04:00",
          "2024-10-15T00:00:00-04:00",
          "2024-10-16T00:00:00-04:00",
          "2024-10-17T00:00:00-04:00",
          "2024-10-18T00:00:00-04:00",
          "2024-10-21T00:00:00-04:00",
          "2024-10-22T00:00:00-04:00",
          "2024-10-23T00:00:00-04:00",
          "2024-10-24T00:00:00-04:00",
          "2024-10-25T00:00:00-04:00",
          "2024-10-28T00:00:00-04:00",
          "2024-10-29T00:00:00-04:00",
          "2024-10-30T00:00:00-04:00",
          "2024-10-31T00:00:00-04:00",
          "2024-11-01T00:00:00-04:00",
          "2024-11-04T00:00:00-05:00",
          "2024-11-05T00:00:00-05:00",
          "2024-11-06T00:00:00-05:00",
          "2024-11-07T00:00:00-05:00",
          "2024-11-08T00:00:00-05:00",
          "2024-11-11T00:00:00-05:00",
          "2024-11-12T00:00:00-05:00",
          "2024-11-13T00:00:00-05:00",
          "2024-11-14T00:00:00-05:00",
          "2024-11-15T00:00:00-05:00",
          "2024-11-18T00:00:00-05:00",
          "2024-11-19T00:00:00-05:00",
          "2024-11-20T00:00:00-05:00",
          "2024-11-21T00:00:00-05:00",
          "2024-11-22T00:00:00-05:00",
          "2024-11-25T00:00:00-05:00",
          "2024-11-26T00:00:00-05:00",
          "2024-11-27T00:00:00-05:00",
          "2024-11-29T00:00:00-05:00",
          "2024-12-02T00:00:00-05:00",
          "2024-12-03T00:00:00-05:00",
          "2024-12-04T00:00:00-05:00",
          "2024-12-05T00:00:00-05:00",
          "2024-12-06T00:00:00-05:00",
          "2024-12-09T00:00:00-05:00",
          "2024-12-10T00:00:00-05:00",
          "2024-12-11T00:00:00-05:00",
          "2024-12-12T00:00:00-05:00",
          "2024-12-13T00:00:00-05:00",
          "2024-12-16T00:00:00-05:00",
          "2024-12-17T00:00:00-05:00",
          "2024-12-18T00:00:00-05:00",
          "2024-12-19T00:00:00-05:00",
          "2024-12-20T00:00:00-05:00",
          "2024-12-23T00:00:00-05:00",
          "2024-12-24T00:00:00-05:00",
          "2024-12-26T00:00:00-05:00",
          "2024-12-27T00:00:00-05:00",
          "2024-12-30T00:00:00-05:00",
          "2024-12-31T00:00:00-05:00",
          "2025-01-02T00:00:00-05:00",
          "2025-01-03T00:00:00-05:00",
          "2025-01-06T00:00:00-05:00",
          "2025-01-07T00:00:00-05:00",
          "2025-01-08T00:00:00-05:00",
          "2025-01-10T00:00:00-05:00",
          "2025-01-13T00:00:00-05:00",
          "2025-01-14T00:00:00-05:00",
          "2025-01-15T00:00:00-05:00",
          "2025-01-16T00:00:00-05:00",
          "2025-01-17T00:00:00-05:00",
          "2025-01-21T00:00:00-05:00",
          "2025-01-22T00:00:00-05:00",
          "2025-01-23T00:00:00-05:00",
          "2025-01-24T00:00:00-05:00",
          "2025-01-27T00:00:00-05:00",
          "2025-01-28T00:00:00-05:00",
          "2025-01-29T00:00:00-05:00",
          "2025-01-30T00:00:00-05:00",
          "2025-01-31T00:00:00-05:00",
          "2025-02-03T00:00:00-05:00",
          "2025-02-04T00:00:00-05:00",
          "2025-02-05T00:00:00-05:00",
          "2025-02-06T00:00:00-05:00",
          "2025-02-07T00:00:00-05:00",
          "2025-02-10T00:00:00-05:00",
          "2025-02-11T00:00:00-05:00",
          "2025-02-12T00:00:00-05:00",
          "2025-02-13T00:00:00-05:00",
          "2025-02-14T00:00:00-05:00",
          "2025-02-18T00:00:00-05:00",
          "2025-02-19T00:00:00-05:00",
          "2025-02-20T00:00:00-05:00",
          "2025-02-21T00:00:00-05:00",
          "2025-02-24T00:00:00-05:00",
          "2025-02-25T00:00:00-05:00",
          "2025-02-26T00:00:00-05:00",
          "2025-02-27T00:00:00-05:00",
          "2025-02-28T00:00:00-05:00",
          "2025-03-03T00:00:00-05:00",
          "2025-03-04T00:00:00-05:00",
          "2025-03-05T00:00:00-05:00",
          "2025-03-06T00:00:00-05:00",
          "2025-03-07T00:00:00-05:00",
          "2025-03-10T00:00:00-04:00",
          "2025-03-11T00:00:00-04:00",
          "2025-03-12T00:00:00-04:00",
          "2025-03-13T00:00:00-04:00",
          "2025-03-14T00:00:00-04:00",
          "2025-03-17T00:00:00-04:00",
          "2025-03-18T00:00:00-04:00",
          "2025-03-19T00:00:00-04:00",
          "2025-03-20T00:00:00-04:00",
          "2025-03-21T00:00:00-04:00",
          "2025-03-24T00:00:00-04:00",
          "2025-03-25T00:00:00-04:00",
          "2025-03-26T00:00:00-04:00",
          "2025-03-27T00:00:00-04:00",
          "2025-03-28T00:00:00-04:00",
          "2025-03-31T00:00:00-04:00",
          "2025-04-01T00:00:00-04:00",
          "2025-04-02T00:00:00-04:00",
          "2025-04-03T00:00:00-04:00",
          "2025-04-04T00:00:00-04:00",
          "2025-04-07T00:00:00-04:00",
          "2025-04-08T00:00:00-04:00",
          "2025-04-09T00:00:00-04:00",
          "2025-04-10T00:00:00-04:00",
          "2025-04-11T00:00:00-04:00",
          "2025-04-14T00:00:00-04:00",
          "2025-04-15T00:00:00-04:00",
          "2025-04-16T00:00:00-04:00",
          "2025-04-17T00:00:00-04:00",
          "2025-04-21T00:00:00-04:00",
          "2025-04-22T00:00:00-04:00",
          "2025-04-23T00:00:00-04:00",
          "2025-04-24T00:00:00-04:00",
          "2025-04-25T00:00:00-04:00",
          "2025-04-28T00:00:00-04:00",
          "2025-04-29T00:00:00-04:00",
          "2025-04-30T00:00:00-04:00",
          "2025-05-01T00:00:00-04:00",
          "2025-05-02T00:00:00-04:00",
          "2025-05-05T00:00:00-04:00",
          "2025-05-06T00:00:00-04:00",
          "2025-05-07T00:00:00-04:00",
          "2025-05-08T00:00:00-04:00",
          "2025-05-09T00:00:00-04:00",
          "2025-05-12T00:00:00-04:00",
          "2025-05-13T00:00:00-04:00",
          "2025-05-14T00:00:00-04:00",
          "2025-05-15T00:00:00-04:00",
          "2025-05-16T00:00:00-04:00",
          "2025-05-19T00:00:00-04:00",
          "2025-05-20T00:00:00-04:00",
          "2025-05-21T00:00:00-04:00",
          "2025-05-22T00:00:00-04:00",
          "2025-05-23T00:00:00-04:00",
          "2025-05-27T00:00:00-04:00",
          "2025-05-28T00:00:00-04:00",
          "2025-05-29T00:00:00-04:00"
         ],
         "xaxis": "x",
         "y": {
          "bdata": "AAAAAAAA+H8AAAAAAAD4fwAAAAAAAPh/AAAAAAAA+H8AAAAAAAD4fwAAAAAAAPh/AAAAAAAA+H8AAAAAAAD4fwAAAAAAAPh/AAAAAAAA+H8AAAAAAAD4fwAAAAAAAPh/AAAAAAAA+H8AAAAAAAD4fwAAAAAAAPh/AAAAAAAA+H8AAAAAAAD4fwAAAAAAAPh/AAAAAAAA+H8AAAAAAAD4fwAAAAAAAPh/AAAAAAAA+H8AAAAAAAD4fwAAAAAAAPh/AAAAAAAA+H8AAAAAAAD4fwAAAAAAAPh/AAAAAAAA+H8AAAAAAAD4fwAAAAAAAPh/AAAAAAAA+H8AAAAAAAD4fwAAAAAAAPh/AAAAAAAA+H8AAAAAAAD4fwAAAAAAAPh/AAAAAAAA+H8AAAAAAAD4fwAAAAAAAPh/AAAAAAAA+H8AAAAAAAD4fwAAAAAAAPh/AAAAAAAA+H8AAAAAAAD4fwAAAAAAAPh/AAAAAAAA+H8AAAAAAAD4fwAAAAAAAPh/AAAAAAAA+H8fhesBrKdqQNejcN0zuGpAMzMzExTJakCPwvVYuttqQAAAANCH7WpAMzMz4woBa0C4HoU7bxRrQBSuRyGcKGtAzczMPKU7a0AAAAAwA1FrQKRwPdo/XGtA7FG4PjBla0B7FK5XmW1rQLgehZuqd2tAcT0KxxZ+a0CuR+HaIYhrQM3MzLyblGtAuB6Fm4Gea0AUrkcBxKZrQKRwPYpor2tAexSut2S0a0CF61H45LhrQPYoXB8av2tACtej8AfDa0DsUbiuycRrQJqZmZmOxWtAZmZmZlW/a0ApXI+Sd7hrQOF6FD6Ks2tAKVyPMhexa0AfhesBqbFrQHsUrgc8r2tAPQrXg+yqa0DhehQ+taVrQHE9CmcCpWtAw/UoHHqna0C4HoU7L61rQK5H4drIrmtA7FG4ThSwa0BmZmamybRrQFyPwrXiumtAZmZm1my9a0DNzMxsY8JrQDMzMzNmyWtAMzMzcwDOa0Bcj8IVBtRrQKRwPVp722tAAAAA8E/ra0DNzMw8H/trQClcj5KECWxASOF6FIIXbEBxPQpnkyRsQB+F6xFEMGxAZmZmdlE2bEDhehRe9jtsQOF6FJ46QGxA9ihcn+pEbEBcj8LV4ElsQFyPwvUqTGxAXI/C9dpLbECPwvV40kpsQFK4HuW9R2xApHA96lxFbECF61H4+UFsQK5H4ZqbQmxASOF6VPZAbEA9CtfTEz5sQI/C9XgqP2xA7FG4DgxCbEBxPQqH7kVsQFK4HmXBSGxAzczMLHNNbEAK16MQ0lJsQOF6FE4GV2xAH4XrIdpabEAfheuxtl9sQD0K15NuamxAw/UorD92bECF61HIfn9sQFK4HqUOhWxAhetRSH2MbEA9CteD+pZsQFyPwqUfoWxAKVyP8uyrbEDXo3DN3bVsQHE9CqchwmxAmpmZmbnLbECamZnp1NhsQOF6FG6D5mxAUrge9QL1bEDhehSepQRtQPYoXF8ZGW1A9ihcf3snbUAUrkeBkjRtQIXrUVj7RG1A9ihc79ZWbUDNzMwsLWhtQLgehRtpeG1AKVyPYsaHbUDD9SgsvZRtQHsUrre/nm1Arkfhyp6jbUAK16MAk6htQLgehevTsW1AhetR2Gu5bUBmZma2ysBtQGZmZoYow21AAAAA0MnDbUBmZmbm+sVtQJqZmUnGzW1AKVyPwljRbUDXo3BNl9ZtQMP1KAw71m1ApHA9ehjXbUCkcD360NRtQFyPwsUl0m1AhetR+L3VbUDNzMwcs95tQEjhepTK521AAAAAEMbtbUB7FK73y/RtQFK4HlXK9G1AuB6FG633bUA9CtdD5PltQFyPwnXk/G1AexSuV3b7bUAK16MQSvhtQAAAABDl9m1AZmZmtkz4bUBmZmaWJvttQIXrUWiF/m1AAAAA0Nr/bUAzMzPTNgFuQEjhegQrA25AXI/CFRIFbkApXI+ydwVuQGZmZsYsBW5Aw/UoDG4BbkDD9ShcyvptQOxRuL7x9m1AexSuF87ubUBSuB4FxONtQOF6FF4S3G1AuB6FOwHTbUDD9SjcU8ltQEjhepS+t21A4XoU7gugbUCkcD2qW4VtQNejcI0xaG1A9ihc76BPbUApXI+yhjhtQClcj/LHJG1AhetRiPoSbUCPwvWIZv9sQOF6FN5E8GxAH4XroWXibEA9CtezMNpsQHE9Cvcg0mxAZmZm5kPMbEDD9SgMq79sQLgehQvpu2xAuB6FW7u3bEBmZmbmr7hsQFyPwuWmq2xAKVyPYkKVbEC4HoVrAXtsQFyPwhV0VmxAzczMbG49bEDD9SicUR5sQLgehetGBWxAZmZmJgvwa0ApXI8iq99rQLgehXs0x2tAFK5HMa+wa0BI4XpEPpdrQJqZmamThWtAmpmZGdh2a0DsUbguWGdrQB+F68G1VWtA4XoUjqVBa0CkcD0aTixrQPYoXP/eF2tA4XoUnrQDa0D2KFwP1elqQMP1KEwCzGpAw/UovPOsakAzMzMzfYxqQEjhepQWcWpAKVyP0k5YakC4HoV7o0RqQMP1KCzGNGpAw/UoLN4lakBI4XoUhRZqQB+F6/FPB2pAcT0KhyD0aUBSuB71HudpQHsUrldO22lAhetRuH3RaUBxPQrHcchpQKRwPcofwGlAKVyPwpy3aUB7FK5n9a5pQA==",
          "dtype": "f8"
         },
         "yaxis": "y"
        },
        {
         "marker": {
          "color": "lightblue"
         },
         "name": "Volume",
         "type": "bar",
         "x": [
          "2024-05-29T00:00:00-04:00",
          "2024-05-30T00:00:00-04:00",
          "2024-05-31T00:00:00-04:00",
          "2024-06-03T00:00:00-04:00",
          "2024-06-04T00:00:00-04:00",
          "2024-06-05T00:00:00-04:00",
          "2024-06-06T00:00:00-04:00",
          "2024-06-07T00:00:00-04:00",
          "2024-06-10T00:00:00-04:00",
          "2024-06-11T00:00:00-04:00",
          "2024-06-12T00:00:00-04:00",
          "2024-06-13T00:00:00-04:00",
          "2024-06-14T00:00:00-04:00",
          "2024-06-17T00:00:00-04:00",
          "2024-06-18T00:00:00-04:00",
          "2024-06-20T00:00:00-04:00",
          "2024-06-21T00:00:00-04:00",
          "2024-06-24T00:00:00-04:00",
          "2024-06-25T00:00:00-04:00",
          "2024-06-26T00:00:00-04:00",
          "2024-06-27T00:00:00-04:00",
          "2024-06-28T00:00:00-04:00",
          "2024-07-01T00:00:00-04:00",
          "2024-07-02T00:00:00-04:00",
          "2024-07-03T00:00:00-04:00",
          "2024-07-05T00:00:00-04:00",
          "2024-07-08T00:00:00-04:00",
          "2024-07-09T00:00:00-04:00",
          "2024-07-10T00:00:00-04:00",
          "2024-07-11T00:00:00-04:00",
          "2024-07-12T00:00:00-04:00",
          "2024-07-15T00:00:00-04:00",
          "2024-07-16T00:00:00-04:00",
          "2024-07-17T00:00:00-04:00",
          "2024-07-18T00:00:00-04:00",
          "2024-07-19T00:00:00-04:00",
          "2024-07-22T00:00:00-04:00",
          "2024-07-23T00:00:00-04:00",
          "2024-07-24T00:00:00-04:00",
          "2024-07-25T00:00:00-04:00",
          "2024-07-26T00:00:00-04:00",
          "2024-07-29T00:00:00-04:00",
          "2024-07-30T00:00:00-04:00",
          "2024-07-31T00:00:00-04:00",
          "2024-08-01T00:00:00-04:00",
          "2024-08-02T00:00:00-04:00",
          "2024-08-05T00:00:00-04:00",
          "2024-08-06T00:00:00-04:00",
          "2024-08-07T00:00:00-04:00",
          "2024-08-08T00:00:00-04:00",
          "2024-08-09T00:00:00-04:00",
          "2024-08-12T00:00:00-04:00",
          "2024-08-13T00:00:00-04:00",
          "2024-08-14T00:00:00-04:00",
          "2024-08-15T00:00:00-04:00",
          "2024-08-16T00:00:00-04:00",
          "2024-08-19T00:00:00-04:00",
          "2024-08-20T00:00:00-04:00",
          "2024-08-21T00:00:00-04:00",
          "2024-08-22T00:00:00-04:00",
          "2024-08-23T00:00:00-04:00",
          "2024-08-26T00:00:00-04:00",
          "2024-08-27T00:00:00-04:00",
          "2024-08-28T00:00:00-04:00",
          "2024-08-29T00:00:00-04:00",
          "2024-08-30T00:00:00-04:00",
          "2024-09-03T00:00:00-04:00",
          "2024-09-04T00:00:00-04:00",
          "2024-09-05T00:00:00-04:00",
          "2024-09-06T00:00:00-04:00",
          "2024-09-09T00:00:00-04:00",
          "2024-09-10T00:00:00-04:00",
          "2024-09-11T00:00:00-04:00",
          "2024-09-12T00:00:00-04:00",
          "2024-09-13T00:00:00-04:00",
          "2024-09-16T00:00:00-04:00",
          "2024-09-17T00:00:00-04:00",
          "2024-09-18T00:00:00-04:00",
          "2024-09-19T00:00:00-04:00",
          "2024-09-20T00:00:00-04:00",
          "2024-09-23T00:00:00-04:00",
          "2024-09-24T00:00:00-04:00",
          "2024-09-25T00:00:00-04:00",
          "2024-09-26T00:00:00-04:00",
          "2024-09-27T00:00:00-04:00",
          "2024-09-30T00:00:00-04:00",
          "2024-10-01T00:00:00-04:00",
          "2024-10-02T00:00:00-04:00",
          "2024-10-03T00:00:00-04:00",
          "2024-10-04T00:00:00-04:00",
          "2024-10-07T00:00:00-04:00",
          "2024-10-08T00:00:00-04:00",
          "2024-10-09T00:00:00-04:00",
          "2024-10-10T00:00:00-04:00",
          "2024-10-11T00:00:00-04:00",
          "2024-10-14T00:00:00-04:00",
          "2024-10-15T00:00:00-04:00",
          "2024-10-16T00:00:00-04:00",
          "2024-10-17T00:00:00-04:00",
          "2024-10-18T00:00:00-04:00",
          "2024-10-21T00:00:00-04:00",
          "2024-10-22T00:00:00-04:00",
          "2024-10-23T00:00:00-04:00",
          "2024-10-24T00:00:00-04:00",
          "2024-10-25T00:00:00-04:00",
          "2024-10-28T00:00:00-04:00",
          "2024-10-29T00:00:00-04:00",
          "2024-10-30T00:00:00-04:00",
          "2024-10-31T00:00:00-04:00",
          "2024-11-01T00:00:00-04:00",
          "2024-11-04T00:00:00-05:00",
          "2024-11-05T00:00:00-05:00",
          "2024-11-06T00:00:00-05:00",
          "2024-11-07T00:00:00-05:00",
          "2024-11-08T00:00:00-05:00",
          "2024-11-11T00:00:00-05:00",
          "2024-11-12T00:00:00-05:00",
          "2024-11-13T00:00:00-05:00",
          "2024-11-14T00:00:00-05:00",
          "2024-11-15T00:00:00-05:00",
          "2024-11-18T00:00:00-05:00",
          "2024-11-19T00:00:00-05:00",
          "2024-11-20T00:00:00-05:00",
          "2024-11-21T00:00:00-05:00",
          "2024-11-22T00:00:00-05:00",
          "2024-11-25T00:00:00-05:00",
          "2024-11-26T00:00:00-05:00",
          "2024-11-27T00:00:00-05:00",
          "2024-11-29T00:00:00-05:00",
          "2024-12-02T00:00:00-05:00",
          "2024-12-03T00:00:00-05:00",
          "2024-12-04T00:00:00-05:00",
          "2024-12-05T00:00:00-05:00",
          "2024-12-06T00:00:00-05:00",
          "2024-12-09T00:00:00-05:00",
          "2024-12-10T00:00:00-05:00",
          "2024-12-11T00:00:00-05:00",
          "2024-12-12T00:00:00-05:00",
          "2024-12-13T00:00:00-05:00",
          "2024-12-16T00:00:00-05:00",
          "2024-12-17T00:00:00-05:00",
          "2024-12-18T00:00:00-05:00",
          "2024-12-19T00:00:00-05:00",
          "2024-12-20T00:00:00-05:00",
          "2024-12-23T00:00:00-05:00",
          "2024-12-24T00:00:00-05:00",
          "2024-12-26T00:00:00-05:00",
          "2024-12-27T00:00:00-05:00",
          "2024-12-30T00:00:00-05:00",
          "2024-12-31T00:00:00-05:00",
          "2025-01-02T00:00:00-05:00",
          "2025-01-03T00:00:00-05:00",
          "2025-01-06T00:00:00-05:00",
          "2025-01-07T00:00:00-05:00",
          "2025-01-08T00:00:00-05:00",
          "2025-01-10T00:00:00-05:00",
          "2025-01-13T00:00:00-05:00",
          "2025-01-14T00:00:00-05:00",
          "2025-01-15T00:00:00-05:00",
          "2025-01-16T00:00:00-05:00",
          "2025-01-17T00:00:00-05:00",
          "2025-01-21T00:00:00-05:00",
          "2025-01-22T00:00:00-05:00",
          "2025-01-23T00:00:00-05:00",
          "2025-01-24T00:00:00-05:00",
          "2025-01-27T00:00:00-05:00",
          "2025-01-28T00:00:00-05:00",
          "2025-01-29T00:00:00-05:00",
          "2025-01-30T00:00:00-05:00",
          "2025-01-31T00:00:00-05:00",
          "2025-02-03T00:00:00-05:00",
          "2025-02-04T00:00:00-05:00",
          "2025-02-05T00:00:00-05:00",
          "2025-02-06T00:00:00-05:00",
          "2025-02-07T00:00:00-05:00",
          "2025-02-10T00:00:00-05:00",
          "2025-02-11T00:00:00-05:00",
          "2025-02-12T00:00:00-05:00",
          "2025-02-13T00:00:00-05:00",
          "2025-02-14T00:00:00-05:00",
          "2025-02-18T00:00:00-05:00",
          "2025-02-19T00:00:00-05:00",
          "2025-02-20T00:00:00-05:00",
          "2025-02-21T00:00:00-05:00",
          "2025-02-24T00:00:00-05:00",
          "2025-02-25T00:00:00-05:00",
          "2025-02-26T00:00:00-05:00",
          "2025-02-27T00:00:00-05:00",
          "2025-02-28T00:00:00-05:00",
          "2025-03-03T00:00:00-05:00",
          "2025-03-04T00:00:00-05:00",
          "2025-03-05T00:00:00-05:00",
          "2025-03-06T00:00:00-05:00",
          "2025-03-07T00:00:00-05:00",
          "2025-03-10T00:00:00-04:00",
          "2025-03-11T00:00:00-04:00",
          "2025-03-12T00:00:00-04:00",
          "2025-03-13T00:00:00-04:00",
          "2025-03-14T00:00:00-04:00",
          "2025-03-17T00:00:00-04:00",
          "2025-03-18T00:00:00-04:00",
          "2025-03-19T00:00:00-04:00",
          "2025-03-20T00:00:00-04:00",
          "2025-03-21T00:00:00-04:00",
          "2025-03-24T00:00:00-04:00",
          "2025-03-25T00:00:00-04:00",
          "2025-03-26T00:00:00-04:00",
          "2025-03-27T00:00:00-04:00",
          "2025-03-28T00:00:00-04:00",
          "2025-03-31T00:00:00-04:00",
          "2025-04-01T00:00:00-04:00",
          "2025-04-02T00:00:00-04:00",
          "2025-04-03T00:00:00-04:00",
          "2025-04-04T00:00:00-04:00",
          "2025-04-07T00:00:00-04:00",
          "2025-04-08T00:00:00-04:00",
          "2025-04-09T00:00:00-04:00",
          "2025-04-10T00:00:00-04:00",
          "2025-04-11T00:00:00-04:00",
          "2025-04-14T00:00:00-04:00",
          "2025-04-15T00:00:00-04:00",
          "2025-04-16T00:00:00-04:00",
          "2025-04-17T00:00:00-04:00",
          "2025-04-21T00:00:00-04:00",
          "2025-04-22T00:00:00-04:00",
          "2025-04-23T00:00:00-04:00",
          "2025-04-24T00:00:00-04:00",
          "2025-04-25T00:00:00-04:00",
          "2025-04-28T00:00:00-04:00",
          "2025-04-29T00:00:00-04:00",
          "2025-04-30T00:00:00-04:00",
          "2025-05-01T00:00:00-04:00",
          "2025-05-02T00:00:00-04:00",
          "2025-05-05T00:00:00-04:00",
          "2025-05-06T00:00:00-04:00",
          "2025-05-07T00:00:00-04:00",
          "2025-05-08T00:00:00-04:00",
          "2025-05-09T00:00:00-04:00",
          "2025-05-12T00:00:00-04:00",
          "2025-05-13T00:00:00-04:00",
          "2025-05-14T00:00:00-04:00",
          "2025-05-15T00:00:00-04:00",
          "2025-05-16T00:00:00-04:00",
          "2025-05-19T00:00:00-04:00",
          "2025-05-20T00:00:00-04:00",
          "2025-05-21T00:00:00-04:00",
          "2025-05-22T00:00:00-04:00",
          "2025-05-23T00:00:00-04:00",
          "2025-05-27T00:00:00-04:00",
          "2025-05-28T00:00:00-04:00",
          "2025-05-29T00:00:00-04:00"
         ],
         "xaxis": "x2",
         "y": {
          "bdata": "4MApA/wk+gIc03oE9Cr8Aihb1AIAXjoDaGJ0AhxNKgMUGswFNDVGChxKzwssRNUFzPwtBCwulgWE1sMEVOMiBZgXsA7Yy88ErGJhA1BV8gOcePcCbIDrBNSsmQP4tnUDyDc6AvDRmQNMlIUDRJXdAnSfuwPIZ9sD5GwpA4StuwP8s5MCbAdrA6ib7wMM/u0CSIDfAuy+YQLApq4D4CoQAxTJegL4EioCGG97Akx++wKIsLkDWNlKBrgqIAdU7yYE8C7JAwyfzwIA8oMCRENEAqTBoQKYRIACsDjEAuiTpAK42GwCeFPOAbx6EgLEvJoCNCtOAtjz0gGIUSQCaKFEAvwGGANQkygDCNn9AsjynALotC4CWODiAuAVAQRYNxMDXFioAlgtPAKIAzEC2LiJA8SRtgJ07JEDdAD7A1yr/hLQMzoDBJ2YAlyUhQIcCC8CEDIHAkw+QAMIp8UD2Lf1ASh5BwKsUDgC+M1aAlQU5gE8jwACzAuuAWCb5AF0jWACKAfcA5gNCAIIcvcBDH3EAiQzKQKIwFACGNYdA3yx2gF8E1ACPKUmAnBsHAK0Ps4CtDXWAxwL5AN0zK0CxPGsAUyJQANk+IIC4NlIAmD0gALcbWgCuA/lAvx7rQL0QdsCsNqpAliMKAJApRgCjIWCAuxmRgJgn18FmLG9AiAl/wF4l7IBjIPeAsj4UAKcPqUCbN5iAsiZMgLwSqkCcEYzAijJsQIcJfQB5Oj5AdDMFAPwog8D1E1iA3z9oAOEmcoIsHRvAoyIYgHsmp8BZEqGAnyQHgJ8bVoCHIlSA4QTZgJgV68CwGlvAuQrPgI0oq0D7E31AiS8WQLAyV8C/PRGBGwMFQSAb9gFJH7SAzAclwOsn0IDKICnBdA0gwQUELYCPEdRA5xIBgaE21oEJKyvAsyOXAK0n8gBQOJdAtBN+QGArTMDpFuyAhQWMgPIBnAC5PjoAqhl6wHkHe0BWLorA8AtDwP0n9wCwACmAkD0cwJ4NWMDgPjPAtTkNAPQotAC4D6xAkAUwgIguEsEuMOJBCxmugPsZ6gDUCuVA7iK3QKQd4cC+No9A7SW6QK4RpwF7PSjAqBUDgI06Q0CkAU2AmiVXwJkY+QDHJ0rAmzhIwJ4DCoGdD+BB3yFkAlsKzQHfKj9CsC9Qwd8KjYFxIUKBhxyDwOwcY8DnEwPA+Q7yQIQWygDsKInA5jo0QLcOUcCPCxPAtDxMQIk1B0DxFRrA6hMBQaEIx0EdIANA3zJFQQ0PwIDDD4sAjgkzQO0EhgD6KbwAnwYrwLsO0MDVAzAAlhyiAIYgIcDgDvJAoTKrAT05FoDXM2hAsJZSgE=",
          "dtype": "i4"
         },
         "yaxis": "y2"
        }
       ],
       "layout": {
        "template": {
         "data": {
          "bar": [
           {
            "error_x": {
             "color": "#2a3f5f"
            },
            "error_y": {
             "color": "#2a3f5f"
            },
            "marker": {
             "line": {
              "color": "white",
              "width": 0.5
             },
             "pattern": {
              "fillmode": "overlay",
              "size": 10,
              "solidity": 0.2
             }
            },
            "type": "bar"
           }
          ],
          "barpolar": [
           {
            "marker": {
             "line": {
              "color": "white",
              "width": 0.5
             },
             "pattern": {
              "fillmode": "overlay",
              "size": 10,
              "solidity": 0.2
             }
            },
            "type": "barpolar"
           }
          ],
          "carpet": [
           {
            "aaxis": {
             "endlinecolor": "#2a3f5f",
             "gridcolor": "#C8D4E3",
             "linecolor": "#C8D4E3",
             "minorgridcolor": "#C8D4E3",
             "startlinecolor": "#2a3f5f"
            },
            "baxis": {
             "endlinecolor": "#2a3f5f",
             "gridcolor": "#C8D4E3",
             "linecolor": "#C8D4E3",
             "minorgridcolor": "#C8D4E3",
             "startlinecolor": "#2a3f5f"
            },
            "type": "carpet"
           }
          ],
          "choropleth": [
           {
            "colorbar": {
             "outlinewidth": 0,
             "ticks": ""
            },
            "type": "choropleth"
           }
          ],
          "contour": [
           {
            "colorbar": {
             "outlinewidth": 0,
             "ticks": ""
            },
            "colorscale": [
             [
              0,
              "#0d0887"
             ],
             [
              0.1111111111111111,
              "#46039f"
             ],
             [
              0.2222222222222222,
              "#7201a8"
             ],
             [
              0.3333333333333333,
              "#9c179e"
             ],
             [
              0.4444444444444444,
              "#bd3786"
             ],
             [
              0.5555555555555556,
              "#d8576b"
             ],
             [
              0.6666666666666666,
              "#ed7953"
             ],
             [
              0.7777777777777778,
              "#fb9f3a"
             ],
             [
              0.8888888888888888,
              "#fdca26"
             ],
             [
              1,
              "#f0f921"
             ]
            ],
            "type": "contour"
           }
          ],
          "contourcarpet": [
           {
            "colorbar": {
             "outlinewidth": 0,
             "ticks": ""
            },
            "type": "contourcarpet"
           }
          ],
          "heatmap": [
           {
            "colorbar": {
             "outlinewidth": 0,
             "ticks": ""
            },
            "colorscale": [
             [
              0,
              "#0d0887"
             ],
             [
              0.1111111111111111,
              "#46039f"
             ],
             [
              0.2222222222222222,
              "#7201a8"
             ],
             [
              0.3333333333333333,
              "#9c179e"
             ],
             [
              0.4444444444444444,
              "#bd3786"
             ],
             [
              0.5555555555555556,
              "#d8576b"
             ],
             [
              0.6666666666666666,
              "#ed7953"
             ],
             [
              0.7777777777777778,
              "#fb9f3a"
             ],
             [
              0.8888888888888888,
              "#fdca26"
             ],
             [
              1,
              "#f0f921"
             ]
            ],
            "type": "heatmap"
           }
          ],
          "histogram": [
           {
            "marker": {
             "pattern": {
              "fillmode": "overlay",
              "size": 10,
              "solidity": 0.2
             }
            },
            "type": "histogram"
           }
          ],
          "histogram2d": [
           {
            "colorbar": {
             "outlinewidth": 0,
             "ticks": ""
            },
            "colorscale": [
             [
              0,
              "#0d0887"
             ],
             [
              0.1111111111111111,
              "#46039f"
             ],
             [
              0.2222222222222222,
              "#7201a8"
             ],
             [
              0.3333333333333333,
              "#9c179e"
             ],
             [
              0.4444444444444444,
              "#bd3786"
             ],
             [
              0.5555555555555556,
              "#d8576b"
             ],
             [
              0.6666666666666666,
              "#ed7953"
             ],
             [
              0.7777777777777778,
              "#fb9f3a"
             ],
             [
              0.8888888888888888,
              "#fdca26"
             ],
             [
              1,
              "#f0f921"
             ]
            ],
            "type": "histogram2d"
           }
          ],
          "histogram2dcontour": [
           {
            "colorbar": {
             "outlinewidth": 0,
             "ticks": ""
            },
            "colorscale": [
             [
              0,
              "#0d0887"
             ],
             [
              0.1111111111111111,
              "#46039f"
             ],
             [
              0.2222222222222222,
              "#7201a8"
             ],
             [
              0.3333333333333333,
              "#9c179e"
             ],
             [
              0.4444444444444444,
              "#bd3786"
             ],
             [
              0.5555555555555556,
              "#d8576b"
             ],
             [
              0.6666666666666666,
              "#ed7953"
             ],
             [
              0.7777777777777778,
              "#fb9f3a"
             ],
             [
              0.8888888888888888,
              "#fdca26"
             ],
             [
              1,
              "#f0f921"
             ]
            ],
            "type": "histogram2dcontour"
           }
          ],
          "mesh3d": [
           {
            "colorbar": {
             "outlinewidth": 0,
             "ticks": ""
            },
            "type": "mesh3d"
           }
          ],
          "parcoords": [
           {
            "line": {
             "colorbar": {
              "outlinewidth": 0,
              "ticks": ""
             }
            },
            "type": "parcoords"
           }
          ],
          "pie": [
           {
            "automargin": true,
            "type": "pie"
           }
          ],
          "scatter": [
           {
            "fillpattern": {
             "fillmode": "overlay",
             "size": 10,
             "solidity": 0.2
            },
            "type": "scatter"
           }
          ],
          "scatter3d": [
           {
            "line": {
             "colorbar": {
              "outlinewidth": 0,
              "ticks": ""
             }
            },
            "marker": {
             "colorbar": {
              "outlinewidth": 0,
              "ticks": ""
             }
            },
            "type": "scatter3d"
           }
          ],
          "scattercarpet": [
           {
            "marker": {
             "colorbar": {
              "outlinewidth": 0,
              "ticks": ""
             }
            },
            "type": "scattercarpet"
           }
          ],
          "scattergeo": [
           {
            "marker": {
             "colorbar": {
              "outlinewidth": 0,
              "ticks": ""
             }
            },
            "type": "scattergeo"
           }
          ],
          "scattergl": [
           {
            "marker": {
             "colorbar": {
              "outlinewidth": 0,
              "ticks": ""
             }
            },
            "type": "scattergl"
           }
          ],
          "scattermap": [
           {
            "marker": {
             "colorbar": {
              "outlinewidth": 0,
              "ticks": ""
             }
            },
            "type": "scattermap"
           }
          ],
          "scattermapbox": [
           {
            "marker": {
             "colorbar": {
              "outlinewidth": 0,
              "ticks": ""
             }
            },
            "type": "scattermapbox"
           }
          ],
          "scatterpolar": [
           {
            "marker": {
             "colorbar": {
              "outlinewidth": 0,
              "ticks": ""
             }
            },
            "type": "scatterpolar"
           }
          ],
          "scatterpolargl": [
           {
            "marker": {
             "colorbar": {
              "outlinewidth": 0,
              "ticks": ""
             }
            },
            "type": "scatterpolargl"
           }
          ],
          "scatterternary": [
           {
            "marker": {
             "colorbar": {
              "outlinewidth": 0,
              "ticks": ""
             }
            },
            "type": "scatterternary"
           }
          ],
          "surface": [
           {
            "colorbar": {
             "outlinewidth": 0,
             "ticks": ""
            },
            "colorscale": [
             [
              0,
              "#0d0887"
             ],
             [
              0.1111111111111111,
              "#46039f"
             ],
             [
              0.2222222222222222,
              "#7201a8"
             ],
             [
              0.3333333333333333,
              "#9c179e"
             ],
             [
              0.4444444444444444,
              "#bd3786"
             ],
             [
              0.5555555555555556,
              "#d8576b"
             ],
             [
              0.6666666666666666,
              "#ed7953"
             ],
             [
              0.7777777777777778,
              "#fb9f3a"
             ],
             [
              0.8888888888888888,
              "#fdca26"
             ],
             [
              1,
              "#f0f921"
             ]
            ],
            "type": "surface"
           }
          ],
          "table": [
           {
            "cells": {
             "fill": {
              "color": "#EBF0F8"
             },
             "line": {
              "color": "white"
             }
            },
            "header": {
             "fill": {
              "color": "#C8D4E3"
             },
             "line": {
              "color": "white"
             }
            },
            "type": "table"
           }
          ]
         },
         "layout": {
          "annotationdefaults": {
           "arrowcolor": "#2a3f5f",
           "arrowhead": 0,
           "arrowwidth": 1
          },
          "autotypenumbers": "strict",
          "coloraxis": {
           "colorbar": {
            "outlinewidth": 0,
            "ticks": ""
           }
          },
          "colorscale": {
           "diverging": [
            [
             0,
             "#8e0152"
            ],
            [
             0.1,
             "#c51b7d"
            ],
            [
             0.2,
             "#de77ae"
            ],
            [
             0.3,
             "#f1b6da"
            ],
            [
             0.4,
             "#fde0ef"
            ],
            [
             0.5,
             "#f7f7f7"
            ],
            [
             0.6,
             "#e6f5d0"
            ],
            [
             0.7,
             "#b8e186"
            ],
            [
             0.8,
             "#7fbc41"
            ],
            [
             0.9,
             "#4d9221"
            ],
            [
             1,
             "#276419"
            ]
           ],
           "sequential": [
            [
             0,
             "#0d0887"
            ],
            [
             0.1111111111111111,
             "#46039f"
            ],
            [
             0.2222222222222222,
             "#7201a8"
            ],
            [
             0.3333333333333333,
             "#9c179e"
            ],
            [
             0.4444444444444444,
             "#bd3786"
            ],
            [
             0.5555555555555556,
             "#d8576b"
            ],
            [
             0.6666666666666666,
             "#ed7953"
            ],
            [
             0.7777777777777778,
             "#fb9f3a"
            ],
            [
             0.8888888888888888,
             "#fdca26"
            ],
            [
             1,
             "#f0f921"
            ]
           ],
           "sequentialminus": [
            [
             0,
             "#0d0887"
            ],
            [
             0.1111111111111111,
             "#46039f"
            ],
            [
             0.2222222222222222,
             "#7201a8"
            ],
            [
             0.3333333333333333,
             "#9c179e"
            ],
            [
             0.4444444444444444,
             "#bd3786"
            ],
            [
             0.5555555555555556,
             "#d8576b"
            ],
            [
             0.6666666666666666,
             "#ed7953"
            ],
            [
             0.7777777777777778,
             "#fb9f3a"
            ],
            [
             0.8888888888888888,
             "#fdca26"
            ],
            [
             1,
             "#f0f921"
            ]
           ]
          },
          "colorway": [
           "#636efa",
           "#EF553B",
           "#00cc96",
           "#ab63fa",
           "#FFA15A",
           "#19d3f3",
           "#FF6692",
           "#B6E880",
           "#FF97FF",
           "#FECB52"
          ],
          "font": {
           "color": "#2a3f5f"
          },
          "geo": {
           "bgcolor": "white",
           "lakecolor": "white",
           "landcolor": "white",
           "showlakes": true,
           "showland": true,
           "subunitcolor": "#C8D4E3"
          },
          "hoverlabel": {
           "align": "left"
          },
          "hovermode": "closest",
          "mapbox": {
           "style": "light"
          },
          "paper_bgcolor": "white",
          "plot_bgcolor": "white",
          "polar": {
           "angularaxis": {
            "gridcolor": "#EBF0F8",
            "linecolor": "#EBF0F8",
            "ticks": ""
           },
           "bgcolor": "white",
           "radialaxis": {
            "gridcolor": "#EBF0F8",
            "linecolor": "#EBF0F8",
            "ticks": ""
           }
          },
          "scene": {
           "xaxis": {
            "backgroundcolor": "white",
            "gridcolor": "#DFE8F3",
            "gridwidth": 2,
            "linecolor": "#EBF0F8",
            "showbackground": true,
            "ticks": "",
            "zerolinecolor": "#EBF0F8"
           },
           "yaxis": {
            "backgroundcolor": "white",
            "gridcolor": "#DFE8F3",
            "gridwidth": 2,
            "linecolor": "#EBF0F8",
            "showbackground": true,
            "ticks": "",
            "zerolinecolor": "#EBF0F8"
           },
           "zaxis": {
            "backgroundcolor": "white",
            "gridcolor": "#DFE8F3",
            "gridwidth": 2,
            "linecolor": "#EBF0F8",
            "showbackground": true,
            "ticks": "",
            "zerolinecolor": "#EBF0F8"
           }
          },
          "shapedefaults": {
           "line": {
            "color": "#2a3f5f"
           }
          },
          "ternary": {
           "aaxis": {
            "gridcolor": "#DFE8F3",
            "linecolor": "#A2B1C6",
            "ticks": ""
           },
           "baxis": {
            "gridcolor": "#DFE8F3",
            "linecolor": "#A2B1C6",
            "ticks": ""
           },
           "bgcolor": "white",
           "caxis": {
            "gridcolor": "#DFE8F3",
            "linecolor": "#A2B1C6",
            "ticks": ""
           }
          },
          "title": {
           "x": 0.05
          },
          "xaxis": {
           "automargin": true,
           "gridcolor": "#EBF0F8",
           "linecolor": "#EBF0F8",
           "ticks": "",
           "title": {
            "standoff": 15
           },
           "zerolinecolor": "#EBF0F8",
           "zerolinewidth": 2
          },
          "yaxis": {
           "automargin": true,
           "gridcolor": "#EBF0F8",
           "linecolor": "#EBF0F8",
           "ticks": "",
           "title": {
            "standoff": 15
           },
           "zerolinecolor": "#EBF0F8",
           "zerolinewidth": 2
          }
         }
        },
        "title": {
         "text": "AAPL Stock Price"
        },
        "xaxis": {
         "anchor": "y",
         "domain": [
          0,
          1
         ],
         "matches": "x2",
         "showticklabels": false,
         "title": {
          "text": "Date"
         }
        },
        "xaxis2": {
         "anchor": "y2",
         "domain": [
          0,
          1
         ]
        },
        "yaxis": {
         "anchor": "x",
         "domain": [
          0.32099999999999995,
          0.9999999999999999
         ],
         "title": {
          "text": "Price"
         }
        },
        "yaxis2": {
         "anchor": "x2",
         "domain": [
          0,
          0.291
         ]
        }
       }
      }
     },
     "metadata": {},
     "output_type": "display_data"
    }
   ],
   "source": [
    "data = analyzer.get_historical_data(period='1y')\n",
    "\n",
    "data_with_indicators = analyzer.calculate_technical_indicators(data)\n",
    "\n",
    "analyzer.plot_stock_data(data_with_indicators)"
   ]
  },
  {
   "cell_type": "code",
   "execution_count": 22,
   "id": "62fcac88",
   "metadata": {},
   "outputs": [],
   "source": [
    "sample_news = pd.DataFrame({\n",
    "    'headline': ['Apple releases new iPhone', 'Apple stock hits all-time high'],\n",
    "    'date': ['2023-09-12', '2023-10-26'],\n",
    "    'stock': ['AAPL', 'AAPL']\n",
    "})"
   ]
  },
  {
   "cell_type": "code",
   "execution_count": 32,
   "id": "eeca45ca",
   "metadata": {},
   "outputs": [
    {
     "data": {
      "text/plain": [
       "Index(['Open', 'High', 'Low', 'Close', 'Volume', 'Dividends', 'Stock Splits'], dtype='object')"
      ]
     },
     "execution_count": 32,
     "metadata": {},
     "output_type": "execute_result"
    }
   ],
   "source": [
    "data.columns"
   ]
  },
  {
   "cell_type": "code",
   "execution_count": null,
   "id": "ffd7e8ca",
   "metadata": {},
   "outputs": [
    {
     "ename": "AttributeError",
     "evalue": "'str' object has no attribute 'strftime'",
     "output_type": "error",
     "traceback": [
      "\u001b[31m---------------------------------------------------------------------------\u001b[39m",
      "\u001b[31mAttributeError\u001b[39m                            Traceback (most recent call last)",
      "\u001b[36mCell\u001b[39m\u001b[36m \u001b[39m\u001b[32mIn[27]\u001b[39m\u001b[32m, line 1\u001b[39m\n\u001b[32m----> \u001b[39m\u001b[32m1\u001b[39m impact_analysis = \u001b[43manalyzer\u001b[49m\u001b[43m.\u001b[49m\u001b[43manalyze_news_impact\u001b[49m\u001b[43m(\u001b[49m\u001b[43msample_news\u001b[49m\u001b[43m,\u001b[49m\u001b[43m \u001b[49m\u001b[43mdata\u001b[49m\u001b[43m)\u001b[49m\n\u001b[32m      2\u001b[39m \u001b[38;5;28mprint\u001b[39m(\u001b[33m\"\u001b[39m\u001b[38;5;130;01m\\n\u001b[39;00m\u001b[33mNews Impact Analysis:\u001b[39m\u001b[33m\"\u001b[39m)\n\u001b[32m      3\u001b[39m \u001b[38;5;28;01mfor\u001b[39;00m date, impact \u001b[38;5;129;01min\u001b[39;00m impact_analysis.items():\n",
      "\u001b[36mFile \u001b[39m\u001b[32mc:\\Users\\Tegbabu\\sentiment-analysis-stock-week1\\notebooks\\../scripts\\stock_analyzer.py:125\u001b[39m, in \u001b[36mStockAnalyzer.analyze_news_impact\u001b[39m\u001b[34m(self, news_data, price_data)\u001b[39m\n\u001b[32m    123\u001b[39m news_date = pd.to_datetime(news[\u001b[33m'\u001b[39m\u001b[33mdate\u001b[39m\u001b[33m'\u001b[39m])\n\u001b[32m    124\u001b[39m \u001b[38;5;66;03m# Get price data around news event\u001b[39;00m\n\u001b[32m--> \u001b[39m\u001b[32m125\u001b[39m event_data = \u001b[38;5;28;43mself\u001b[39;49m\u001b[43m.\u001b[49m\u001b[43mget_news_impact_analysis\u001b[49m\u001b[43m(\u001b[49m\n\u001b[32m    126\u001b[39m \u001b[43m    \u001b[49m\u001b[43mnews_date\u001b[49m\u001b[43m.\u001b[49m\u001b[43mstrftime\u001b[49m\u001b[43m(\u001b[49m\u001b[33;43m'\u001b[39;49m\u001b[33;43m%\u001b[39;49m\u001b[33;43mY-\u001b[39;49m\u001b[33;43m%\u001b[39;49m\u001b[33;43mm-\u001b[39;49m\u001b[38;5;132;43;01m%d\u001b[39;49;00m\u001b[33;43m'\u001b[39;49m\u001b[43m)\u001b[49m\u001b[43m)\u001b[49m\n\u001b[32m    128\u001b[39m \u001b[38;5;28;01mif\u001b[39;00m \u001b[38;5;129;01mnot\u001b[39;00m event_data.empty:\n\u001b[32m    129\u001b[39m     \u001b[38;5;66;03m# Calculate price changes\u001b[39;00m\n\u001b[32m    130\u001b[39m     price_before = event_data[\u001b[33m'\u001b[39m\u001b[33mClose\u001b[39m\u001b[33m'\u001b[39m].iloc[\u001b[32m0\u001b[39m]\n",
      "\u001b[36mFile \u001b[39m\u001b[32mc:\\Users\\Tegbabu\\sentiment-analysis-stock-week1\\notebooks\\../scripts\\stock_analyzer.py:56\u001b[39m, in \u001b[36mStockAnalyzer.get_news_impact_analysis\u001b[39m\u001b[34m(self, news_date, days_before, days_after)\u001b[39m\n\u001b[32m     52\u001b[39m start_date = (datetime.strptime(news_date, \u001b[33m'\u001b[39m\u001b[33m%\u001b[39m\u001b[33mY-\u001b[39m\u001b[33m%\u001b[39m\u001b[33mm-\u001b[39m\u001b[38;5;132;01m%d\u001b[39;00m\u001b[33m'\u001b[39m) -\n\u001b[32m     53\u001b[39m               timedelta(days=days_before)).strftime(\u001b[33m'\u001b[39m\u001b[33m%\u001b[39m\u001b[33mY-\u001b[39m\u001b[33m%\u001b[39m\u001b[33mm-\u001b[39m\u001b[38;5;132;01m%d\u001b[39;00m\u001b[33m'\u001b[39m)\n\u001b[32m     54\u001b[39m end_date = (datetime.strptime(news_date, \u001b[33m'\u001b[39m\u001b[33m%\u001b[39m\u001b[33mY-\u001b[39m\u001b[33m%\u001b[39m\u001b[33mm-\u001b[39m\u001b[38;5;132;01m%d\u001b[39;00m\u001b[33m'\u001b[39m) +\n\u001b[32m     55\u001b[39m             timedelta(days=days_after)).strftime(\u001b[33m'\u001b[39m\u001b[33m%\u001b[39m\u001b[33mY-\u001b[39m\u001b[33m%\u001b[39m\u001b[33mm-\u001b[39m\u001b[38;5;132;01m%d\u001b[39;00m\u001b[33m'\u001b[39m)\n\u001b[32m---> \u001b[39m\u001b[32m56\u001b[39m \u001b[38;5;28;01mreturn\u001b[39;00m \u001b[38;5;28mself\u001b[39m.get_historical_data(start=\u001b[43mstart_date\u001b[49m\u001b[43m.\u001b[49m\u001b[43mstrftime\u001b[49m(\u001b[33m'\u001b[39m\u001b[33m%\u001b[39m\u001b[33mY-\u001b[39m\u001b[33m%\u001b[39m\u001b[33mm-\u001b[39m\u001b[38;5;132;01m%d\u001b[39;00m\u001b[33m'\u001b[39m), end=end_date.strftime(\u001b[33m'\u001b[39m\u001b[33m%\u001b[39m\u001b[33mY-\u001b[39m\u001b[33m%\u001b[39m\u001b[33mm-\u001b[39m\u001b[38;5;132;01m%d\u001b[39;00m\u001b[33m'\u001b[39m))\n",
      "\u001b[31mAttributeError\u001b[39m: 'str' object has no attribute 'strftime'"
     ]
    }
   ],
   "source": [
    "impact_analysis = analyzer.analyze_news_impact(sample_news, data)\n",
    "print(\"\\nNews Impact Analysis:\")\n",
    "for date, impact in impact_analysis.items():\n",
    "    print(f\"\\nDate: {date}\")\n",
    "    print(f\"Headline: {impact['headline']}\")\n",
    "    print(f\"Price Change: {impact['price_change']:.2f}%\")\n",
    "    print(f\"Volatility: {impact['volatility']:.2f}%\")\n",
    "    print(f\"Volume Change: {impact['volume_change']:.2f}%\")\n"
   ]
  }
 ],
 "metadata": {
  "kernelspec": {
   "display_name": ".venv",
   "language": "python",
   "name": "python3"
  },
  "language_info": {
   "codemirror_mode": {
    "name": "ipython",
    "version": 3
   },
   "file_extension": ".py",
   "mimetype": "text/x-python",
   "name": "python",
   "nbconvert_exporter": "python",
   "pygments_lexer": "ipython3",
   "version": "3.12.6"
  }
 },
 "nbformat": 4,
 "nbformat_minor": 5
}
